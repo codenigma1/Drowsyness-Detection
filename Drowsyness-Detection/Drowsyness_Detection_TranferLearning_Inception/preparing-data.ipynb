{
 "cells": [
  {
   "cell_type": "code",
   "execution_count": null,
   "metadata": {},
   "outputs": [],
   "source": [
    "import os\n",
    "import shutil\n",
    "import random\n",
    "\n",
    "def move_images(source_folder, target_folder, percentage):\n",
    "    # Get all files in the source folder\n",
    "    files = [f for f in os.listdir(source_folder) if os.path.isfile(os.path.join(source_folder, f))]\n",
    "    total_files = len(files)\n",
    "    \n",
    "    # Calculate the number of files to move\n",
    "    num_files_to_move = int(total_files * percentage)\n",
    "    \n",
    "    # Randomly select files to move\n",
    "    files_to_move = random.sample(files, num_files_to_move)\n",
    "    \n",
    "    # Ensure the target folder exists\n",
    "    os.makedirs(target_folder, exist_ok=True)\n",
    "    \n",
    "    # Move files\n",
    "    for file_name in files_to_move:\n",
    "        src_path = os.path.join(source_folder, file_name)\n",
    "        dest_path = os.path.join(target_folder, file_name)\n",
    "        shutil.move(src_path, dest_path)\n",
    "    print(f\"Moved {num_files_to_move} files from {source_folder} to {target_folder}.\")\n",
    "\n",
    "def main():\n",
    "    # Define source and target directories\n",
    "    base_dir = os.getcwd()  # Current working directory\n",
    "    open_eyes_folder = os.path.join(base_dir, 'archive\\mrleyedataset\\Open-eyes')\n",
    "    close_eyes_folder = os.path.join(base_dir, 'archive\\mrleyedataset\\Close-eyes')\n",
    "    test_folder = os.path.join(base_dir, 'Data', 'test')\n",
    "\n",
    "    # Move 5% of images\n",
    "    move_images(open_eyes_folder, os.path.join(test_folder, 'Open-eyes'), 0.05)\n",
    "    move_images(close_eyes_folder, os.path.join(test_folder, 'Close-eyes'), 0.05)\n",
    "\n",
    "if __name__ == \"__main__\":\n",
    "    main()\n"
   ]
  }
 ],
 "metadata": {
  "kernelspec": {
   "display_name": "Python 3",
   "language": "python",
   "name": "python3"
  },
  "language_info": {
   "name": "python",
   "version": "3.13.0"
  }
 },
 "nbformat": 4,
 "nbformat_minor": 2
}
