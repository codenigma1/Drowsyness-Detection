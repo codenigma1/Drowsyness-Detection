{
 "cells": [
  {
   "cell_type": "code",
   "execution_count": 3,
   "metadata": {},
   "outputs": [],
   "source": [
    "import tensorflow as tf\n",
    "import cv2\n",
    "import numpy as np\n",
    "import os\n",
    "from pygame import mixer"
   ]
  },
  {
   "cell_type": "code",
   "execution_count": 4,
   "metadata": {},
   "outputs": [],
   "source": [
    "# Load Haar cascades and the model\n",
    "face_cascade = cv2.CascadeClassifier(cv2.data.haarcascades + 'haarcascade_frontalface_default.xml')\n",
    "eye_cascade = cv2.CascadeClassifier(cv2.data.haarcascades + 'haarcascade_eye.xml')\n",
    "model = tf.keras.models.load_model('save_models/new_best_model.h5')"
   ]
  },
  {
   "cell_type": "code",
   "execution_count": 6,
   "metadata": {},
   "outputs": [],
   "source": [
    "import time  # Import for tracking time\n",
    "\n",
    "# Initialize the alarm sound\n",
    "mixer.init()\n",
    "sound = mixer.Sound('sounds/alert-alarm.wav')\n",
    "cap = cv2.VideoCapture(0)\n",
    "\n",
    "score = 0\n",
    "drowsy_threshold = 15\n",
    "is_playing = False  # To track sound state\n",
    "cool_down_timer = 0  # Time tracking variable\n",
    "cool_down_duration = 5  # Cool-down duration in seconds\n",
    "\n",
    "while True:\n",
    "    ret, frame = cap.read()\n",
    "    if not ret:\n",
    "        print(\"Failed to grab frame\")\n",
    "        break\n",
    "\n",
    "    height, width = frame.shape[0:2]\n",
    "    gray = cv2.cvtColor(frame, cv2.COLOR_BGR2GRAY)\n",
    "    faces = face_cascade.detectMultiScale(gray, scaleFactor=1.2, minNeighbors=3)\n",
    "    eyes = eye_cascade.detectMultiScale(gray, scaleFactor=1.2, minNeighbors=3)\n",
    "\n",
    "    # Draw a background for the status text\n",
    "    cv2.rectangle(frame, (0, height-60), (width, height), (0, 0, 0), thickness=cv2.FILLED)\n",
    "\n",
    "    for (x, y, w, h) in faces:\n",
    "        cv2.rectangle(frame, (x, y), (x + w, y + h), color=(255, 0, 0), thickness=2)\n",
    "    \n",
    "    for (ex, ey, ew, eh) in eyes:\n",
    "        # Eye preprocessing\n",
    "        eye = frame[ey:ey+eh, ex:ex+ew]\n",
    "        eye = cv2.resize(eye, (80, 80))\n",
    "        eye = eye / 255.0\n",
    "        eye = eye.reshape(1, 80, 80, 3)\n",
    "\n",
    "        # Predict using the model\n",
    "        prediction = model.predict(eye, verbose=0)\n",
    "        closed_prob = np.round(prediction[0][0], 4)\n",
    "        open_prob = np.round(prediction[0][1], 4)\n",
    "\n",
    "        # Display prediction scores\n",
    "        cv2.putText(frame, f\"Closed: {closed_prob}, Open: {open_prob}\", (10, height-40),\n",
    "                    fontFace=cv2.FONT_HERSHEY_COMPLEX_SMALL, fontScale=0.8, color=(255, 255, 255), thickness=1)\n",
    "\n",
    "        # Handle drowsiness detection\n",
    "        if closed_prob > 0.30:\n",
    "            score += 1\n",
    "            cv2.putText(frame, 'Status: DROWSY!', (10, height-20),\n",
    "                        fontFace=cv2.FONT_HERSHEY_COMPLEX_SMALL, fontScale=1, color=(0, 0, 255), thickness=2)\n",
    "            if score > drowsy_threshold:\n",
    "                cv2.rectangle(frame, (0, 0), (width, 50), (0, 0, 255), thickness=cv2.FILLED)\n",
    "                cv2.putText(frame, 'ALERT! You are Drowsy!', (10, 30),\n",
    "                            fontFace=cv2.FONT_HERSHEY_SIMPLEX, fontScale=1, color=(255, 255, 255), thickness=2)\n",
    "                if not is_playing and time.time() - cool_down_timer > cool_down_duration:\n",
    "                    sound.play(loops=-1)  # Play continuously\n",
    "                    is_playing = True\n",
    "        elif open_prob > 0.90:\n",
    "            score -= 1\n",
    "            cv2.putText(frame, 'Status: AWAKE', (10, height-20),\n",
    "                        fontFace=cv2.FONT_HERSHEY_COMPLEX_SMALL, fontScale=1, color=(0, 255, 0), thickness=2)\n",
    "            if score < 0:\n",
    "                score = 0\n",
    "            if is_playing:  # Stop sound if driver opens eyes\n",
    "                sound.stop()\n",
    "                is_playing = False\n",
    "                cool_down_timer = time.time()  # Start the cool-down timer\n",
    "\n",
    "    cv2.imshow('Drowsiness Detection', frame)\n",
    "\n",
    "    # Quit on 'q' key\n",
    "    if cv2.waitKey(1) & 0xFF == ord('q'):\n",
    "        break\n",
    "\n",
    "cap.release()\n",
    "cv2.destroyAllWindows()\n"
   ]
  },
  {
   "cell_type": "code",
   "execution_count": 13,
   "metadata": {},
   "outputs": [],
   "source": [
    "cap.release()\n",
    "cv2.destroyAllWindows()"
   ]
  }
 ],
 "metadata": {
  "kernelspec": {
   "display_name": "gpu_env",
   "language": "python",
   "name": "python3"
  },
  "language_info": {
   "codemirror_mode": {
    "name": "ipython",
    "version": 3
   },
   "file_extension": ".py",
   "mimetype": "text/x-python",
   "name": "python",
   "nbconvert_exporter": "python",
   "pygments_lexer": "ipython3",
   "version": "3.9.20"
  }
 },
 "nbformat": 4,
 "nbformat_minor": 2
}
